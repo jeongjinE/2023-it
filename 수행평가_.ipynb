{
  "nbformat": 4,
  "nbformat_minor": 0,
  "metadata": {
    "colab": {
      "provenance": [],
      "authorship_tag": "ABX9TyMVZR20yM8XriZJgF9Br69t",
      "include_colab_link": true
    },
    "kernelspec": {
      "name": "python3",
      "display_name": "Python 3"
    },
    "language_info": {
      "name": "python"
    }
  },
  "cells": [
    {
      "cell_type": "markdown",
      "metadata": {
        "id": "view-in-github",
        "colab_type": "text"
      },
      "source": [
        "<a href=\"https://colab.research.google.com/github/jeongjinE/2023-it/blob/main/%EC%88%98%ED%96%89%ED%8F%89%EA%B0%80_.ipynb\" target=\"_parent\"><img src=\"https://colab.research.google.com/assets/colab-badge.svg\" alt=\"Open In Colab\"/></a>"
      ]
    },
    {
      "cell_type": "code",
      "execution_count": 1,
      "metadata": {
        "colab": {
          "base_uri": "https://localhost:8080/"
        },
        "id": "_rSGiVGmuZUm",
        "outputId": "03c36d45-6e2a-486b-c9ae-f2581bb00b52"
      },
      "outputs": [
        {
          "output_type": "stream",
          "name": "stdout",
          "text": [
            "부모님으로 부터 받은용돈:10000\n",
            "거스름돈= 6450\n",
            "500원 짜리 거스름돈: 12 개 \n",
            "100원 짜리 거스름돈: 4 개 \n",
            "50원 짜리 거스름돈: 1 개 \n"
          ]
        }
      ],
      "source": [
        "money= int(input(\"부모님으로 부터 받은용돈:\"))\n",
        "cookie = 3550\n",
        "cookie1 = money - cookie \n",
        "print(\"거스름돈=\", cookie1)\n",
        "\n",
        "\n",
        "a = cookie1//500\n",
        "print(f\"500원 짜리 거스름돈: {a} 개 \")\n",
        "\n",
        "\n",
        "b = (450//100)\n",
        "print(f\"100원 짜리 거스름돈: {b} 개 \")\n",
        "\n",
        "\n",
        "c = 1\n",
        "print(f\"50원 짜리 거스름돈: {c} 개 \")\n"
      ]
    }
  ]
}